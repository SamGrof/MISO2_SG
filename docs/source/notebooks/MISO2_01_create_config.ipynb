{
 "cells": [
  {
   "cell_type": "markdown",
   "id": "fe7671abd1442f6b",
   "metadata": {
    "collapsed": false
   },
   "source": [
    "# Creating a MISO2 config"
   ]
  },
  {
   "cell_type": "code",
   "execution_count": 1,
   "id": "26e215dc61d18e32",
   "metadata": {
    "collapsed": false
   },
   "outputs": [],
   "source": [
    "import logging\n",
    "import os\n",
    "from datetime import datetime\n",
    "from util.MISO2_file_manager import get_parameter_filenames\n",
    "from model.config.MISO2_logger import get_MISO2_logger\n",
    "from model.config.MISO2_config import MISO2Config\n",
    "from preprocessing.checks.MISO2_input_data_sanity_check import input_data_sanity_check"
   ]
  },
  {
   "cell_type": "markdown",
   "id": "b37d0c344b25c937",
   "metadata": {
    "collapsed": false
   },
   "source": [
    "Set file paths in relation to the directory where you are executing the code from"
   ]
  },
  {
   "cell_type": "code",
   "execution_count": 15,
   "id": "774f51f54c70f2e5",
   "metadata": {
    "collapsed": false
   },
   "outputs": [],
   "source": [
    "main_path = os.path.join(os.getcwd(), os.pardir, os.pardir, os.pardir)\n",
    "input_path = os.path.join(main_path, \"input\", \"input_usuk\")\n",
    "config_path = os.path.join(main_path, \"config\")\n",
    "config_filename = 'MISO2_Config_USUK_v1.xlsx'\n",
    "classification_filename = 'MISO2_Classifications_Master_USUK_v1.xlsx'\n",
    "# config and classification need to be manually set. different configs may make use of the same set of input parameter files"
   ]
  },
  {
   "cell_type": "markdown",
   "id": "568372774b8fb99c",
   "metadata": {
    "collapsed": false
   },
   "source": [
    "Set logging levels. Use a level lower than WARN only for debugging purposes "
   ]
  },
  {
   "cell_type": "code",
   "execution_count": 16,
   "id": "6273c143d9ad11eb",
   "metadata": {
    "collapsed": false
   },
   "outputs": [
    {
     "data": {
      "text/plain": [
       "(<RootLogger root (WARNING)>, <StreamHandler stderr (WARNING)>, None)"
      ]
     },
     "execution_count": 16,
     "metadata": {},
     "output_type": "execute_result"
    }
   ],
   "source": [
    "timestamp = datetime.now().strftime(\"%Y_%m_%d_%H_%M_%S\")\n",
    "\n",
    "get_MISO2_logger(\n",
    "    log_filename='MISO2_log_' + timestamp + \".txt\",\n",
    "    log_pathname=os.path.join(main_path, 'logs'),\n",
    "    file_level=None,\n",
    "    console_level=logging.WARN)\n"
   ]
  },
  {
   "cell_type": "markdown",
   "id": "b4d25d24a4c54713",
   "metadata": {
    "collapsed": false
   },
   "source": [
    "It never hurts to make a sanity data check of the input files. Note that this has a write back option available which you probably do not want to use blindly. The sanity check controls for dimensions and data availability and emits warnings if it encounters a mismatch. Output is omitted here."
   ]
  },
  {
   "cell_type": "code",
   "execution_count": 17,
   "id": "26c4f7300003ea88",
   "metadata": {
    "collapsed": false
   },
   "outputs": [
    {
     "name": "stderr",
     "output_type": "stream",
     "text": [
      "2025-03-03 17:36:32,035 WARNING (MISO2_input_data_sanity_check.py <check_sheet_size>): For c:\\Users\\simsam\\Desktop\\GitHub\\MISO2\\docs\\source\\notebooks\\..\\..\\..\\input\\input_usuk\\MISO2_EndUseShares_v1.xlsx Data values cols do not match cover sheet: 197 vs 201\n",
      "2025-03-03 17:36:32,035 WARNING (MISO2_input_data_sanity_check.py <check_sheet_size>): WARNING: Number of cols in cover sheet is smaller than number of data cols,                       some values will not be parsed\n",
      "2025-03-03 17:36:32,185 WARNING (MISO2_input_data_sanity_check.py <check_values>): Input data parameter c:\\Users\\simsam\\Desktop\\GitHub\\MISO2\\docs\\source\\notebooks\\..\\..\\..\\input\\input_usuk\\MISO2_EoLRateRecycling_v1.xlsx misses values of type Material which are present in classification file: {'cement', 'bitumen'} \n",
      "\n",
      "2025-03-03 17:36:32,185 WARNING (MISO2_input_data_sanity_check.py <check_values>): Input data parameter c:\\Users\\simsam\\Desktop\\GitHub\\MISO2\\docs\\source\\notebooks\\..\\..\\..\\input\\input_usuk\\MISO2_EoLRateDowncycling_v1.xlsx misses values of type Material which are present in classification file: {'nickel', 'lead', 'copper', 'paper', 'wood', 'glass_cont', 'tin', 'aggr_4asph', 'zinc', 'manganese', 'iron_steel', 'metals_other', 'plastic', 'chromium', 'cement', 'aggr_4concr', 'aggr_downcycl', 'bitumen', 'aggr_virgin', 'glass_flat', 'aluminum'} \n",
      "\n",
      "2025-03-03 17:36:32,185 WARNING (MISO2_input_data_sanity_check.py <check_values>): Input data parameter c:\\Users\\simsam\\Desktop\\GitHub\\MISO2\\docs\\source\\notebooks\\..\\..\\..\\input\\input_usuk\\MISO2_WasteRate_recov_p5_v1.xlsx misses values of type Material which are present in classification file: {'concrete', 'metals_other', 'paper', 'wood', 'glass_cont', 'cement', 'aggr_4concr', 'bricks', 'aggr_downcycl', 'bitumen', 'aggr_virgin', 'aggr_4asph', 'asphalt', 'glass_flat'} \n",
      "\n",
      "2025-03-03 17:36:32,185 WARNING (MISO2_input_data_sanity_check.py <check_values>): Input data parameter c:\\Users\\simsam\\Desktop\\GitHub\\MISO2\\docs\\source\\notebooks\\..\\..\\..\\input\\input_usuk\\MISO2_WasteRate_unrecov_p5_v1.xlsx misses values of type Material which are present in classification file: {'concrete', 'metals_other', 'lead', 'plastic', 'paper', 'wood', 'glass_cont', 'cement', 'aggr_4concr', 'bricks', 'aggr_downcycl', 'bitumen', 'aggr_virgin', 'aggr_4asph', 'asphalt', 'glass_flat'} \n",
      "\n",
      "2025-03-03 17:36:32,185 WARNING (MISO2_input_data_sanity_check.py <check_values>): Input data parameter c:\\Users\\simsam\\Desktop\\GitHub\\MISO2\\docs\\source\\notebooks\\..\\..\\..\\input\\input_usuk\\MISO2_WasteRate_recov_p7_v1.xlsx misses values of type Material which are present in classification file: {'concrete', 'metals_other', 'lead', 'glass_cont', 'cement', 'aggr_4concr', 'bricks', 'aggr_downcycl', 'bitumen', 'aggr_virgin', 'aggr_4asph', 'asphalt', 'glass_flat'} \n",
      "\n",
      "2025-03-03 17:36:32,185 WARNING (MISO2_input_data_sanity_check.py <check_values>): Input data parameter c:\\Users\\simsam\\Desktop\\GitHub\\MISO2\\docs\\source\\notebooks\\..\\..\\..\\input\\input_usuk\\MISO2_WasteRate_unrecov_p7_v1.xlsx misses values of type Material which are present in classification file: {'iron_steel', 'concrete', 'lead', 'metals_other', 'plastic', 'paper', 'wood', 'aggr_4concr', 'aggr_downcycl', 'aggr_virgin', 'aggr_4asph', 'asphalt', 'aluminum'} \n",
      "\n",
      "2025-03-03 17:36:32,185 WARNING (MISO2_input_data_sanity_check.py <check_values_against_classification>): Dataframe is empty for c:\\Users\\simsam\\Desktop\\GitHub\\MISO2\\docs\\source\\notebooks\\..\\..\\..\\input\\input_usuk\\MISO2_WasteRate_recov_p9_v1.xlsx, skipping further checks\n",
      "2025-03-03 17:36:32,201 WARNING (MISO2_input_data_sanity_check.py <check_values>): Input data parameter c:\\Users\\simsam\\Desktop\\GitHub\\MISO2\\docs\\source\\notebooks\\..\\..\\..\\input\\input_usuk\\MISO2_WasteRate_unrecov_p9_v1.xlsx misses values of type Material which are present in classification file: {'nickel', 'lead', 'copper', 'paper', 'wood', 'glass_cont', 'tin', 'aggr_4asph', 'asphalt', 'zinc', 'manganese', 'iron_steel', 'metals_other', 'plastic', 'chromium', 'cement', 'aggr_4concr', 'aggr_downcycl', 'bitumen', 'aggr_virgin', 'aluminum'} \n",
      "\n",
      "2025-03-03 17:36:32,205 WARNING (MISO2_input_data_sanity_check.py <check_values>): Input data parameter c:\\Users\\simsam\\Desktop\\GitHub\\MISO2\\docs\\source\\notebooks\\..\\..\\..\\input\\input_usuk\\MISO2_Production_p3_total_v1.xlsx misses values of type Material which are present in classification file: {'concrete', 'nickel', 'metals_other', 'plastic', 'chromium', 'wood', 'cement', 'tin', 'aggr_4concr', 'bricks', 'manganese', 'aggr_downcycl', 'bitumen', 'aggr_virgin', 'aggr_4asph', 'asphalt', 'glass_flat', 'aluminum'} \n",
      "\n",
      "2025-03-03 17:36:32,205 WARNING (MISO2_input_data_sanity_check.py <check_values>): Input data parameter c:\\Users\\simsam\\Desktop\\GitHub\\MISO2\\docs\\source\\notebooks\\..\\..\\..\\input\\input_usuk\\MISO2_Production_p3_primary_v1.xlsx misses values of type Material which are present in classification file: {'concrete', 'iron_steel', 'lead', 'metals_other', 'copper', 'paper', 'zinc', 'glass_cont', 'aggr_4concr', 'aggr_downcycl', 'aggr_virgin', 'aggr_4asph', 'asphalt'} \n",
      "\n",
      "2025-03-03 17:36:32,205 WARNING (MISO2_input_data_sanity_check.py <check_values>): Input data parameter c:\\Users\\simsam\\Desktop\\GitHub\\MISO2\\docs\\source\\notebooks\\..\\..\\..\\input\\input_usuk\\MISO2_Import_p4_v1.xlsx misses values of type Material which are present in classification file: {'concrete', 'metals_other', 'paper', 'wood', 'aggr_4concr', 'aggr_downcycl', 'aggr_virgin', 'aggr_4asph', 'asphalt'} \n",
      "\n",
      "2025-03-03 17:36:32,205 WARNING (MISO2_input_data_sanity_check.py <check_values>): Input data parameter c:\\Users\\simsam\\Desktop\\GitHub\\MISO2\\docs\\source\\notebooks\\..\\..\\..\\input\\input_usuk\\MISO2_Export_p4_v1.xlsx misses values of type Material which are present in classification file: {'concrete', 'metals_other', 'paper', 'wood', 'aggr_4concr', 'aggr_downcycl', 'aggr_virgin', 'aggr_4asph', 'asphalt'} \n",
      "\n",
      "2025-03-03 17:36:32,215 WARNING (MISO2_input_data_sanity_check.py <check_values>): Input data parameter c:\\Users\\simsam\\Desktop\\GitHub\\MISO2\\docs\\source\\notebooks\\..\\..\\..\\input\\input_usuk\\MISO2_Import_p6_v1.xlsx misses values of type Material which are present in classification file: {'concrete', 'nickel', 'metals_other', 'chromium', 'tin', 'aggr_4concr', 'bricks', 'aggr_downcycl', 'bitumen', 'aggr_virgin', 'aggr_4asph', 'asphalt', 'manganese'} \n",
      "\n",
      "2025-03-03 17:36:32,218 WARNING (MISO2_input_data_sanity_check.py <check_values>): Input data parameter c:\\Users\\simsam\\Desktop\\GitHub\\MISO2\\docs\\source\\notebooks\\..\\..\\..\\input\\input_usuk\\MISO2_Export_p6_v1.xlsx misses values of type Material which are present in classification file: {'concrete', 'nickel', 'metals_other', 'chromium', 'tin', 'aggr_4concr', 'bricks', 'aggr_downcycl', 'bitumen', 'aggr_virgin', 'aggr_4asph', 'asphalt', 'manganese'} \n",
      "\n",
      "2025-03-03 17:36:32,221 WARNING (MISO2_input_data_sanity_check.py <check_values>): Input data parameter c:\\Users\\simsam\\Desktop\\GitHub\\MISO2\\docs\\source\\notebooks\\..\\..\\..\\input\\input_usuk\\MISO2_Import_p8_v1.xlsx misses values of type Material which are present in classification file: {'concrete', 'nickel', 'metals_other', 'chromium', 'glass_cont', 'tin', 'cement', 'aggr_4concr', 'bricks', 'manganese', 'aggr_downcycl', 'bitumen', 'aggr_virgin', 'aggr_4asph', 'asphalt', 'glass_flat'} \n",
      "\n",
      "2025-03-03 17:36:32,221 WARNING (MISO2_input_data_sanity_check.py <check_values>): Input data parameter c:\\Users\\simsam\\Desktop\\GitHub\\MISO2\\docs\\source\\notebooks\\..\\..\\..\\input\\input_usuk\\MISO2_Export_p8_v1.xlsx misses values of type Material which are present in classification file: {'concrete', 'nickel', 'metals_other', 'chromium', 'glass_cont', 'tin', 'cement', 'aggr_4concr', 'bricks', 'manganese', 'aggr_downcycl', 'bitumen', 'aggr_virgin', 'aggr_4asph', 'asphalt', 'glass_flat'} \n",
      "\n",
      "2025-03-03 17:36:32,221 WARNING (MISO2_input_data_sanity_check.py <check_values>): Input data parameter c:\\Users\\simsam\\Desktop\\GitHub\\MISO2\\docs\\source\\notebooks\\..\\..\\..\\input\\input_usuk\\MISO2_Import_p12_v1.xlsx misses values of type Material which are present in classification file: {'concrete', 'nickel', 'metals_other', 'chromium', 'wood', 'cement', 'tin', 'aggr_4concr', 'bricks', 'aggr_downcycl', 'bitumen', 'aggr_virgin', 'aggr_4asph', 'asphalt', 'manganese'} \n",
      "\n",
      "2025-03-03 17:36:32,221 WARNING (MISO2_input_data_sanity_check.py <check_values>): Input data parameter c:\\Users\\simsam\\Desktop\\GitHub\\MISO2\\docs\\source\\notebooks\\..\\..\\..\\input\\input_usuk\\MISO2_Export_p12_v1.xlsx misses values of type Material which are present in classification file: {'concrete', 'nickel', 'metals_other', 'chromium', 'wood', 'cement', 'tin', 'aggr_4concr', 'bricks', 'aggr_downcycl', 'bitumen', 'aggr_virgin', 'aggr_4asph', 'asphalt', 'manganese'} \n",
      "\n",
      "2025-03-03 17:36:32,236 WARNING (MISO2_input_data_sanity_check.py <check_values>): Input data parameter c:\\Users\\simsam\\Desktop\\GitHub\\MISO2\\docs\\source\\notebooks\\..\\..\\..\\input\\input_usuk\\MISO2_RoadMultiplier_v1.xlsx misses values of type Material which are present in classification file: {'cement', 'bitumen'} \n",
      "\n",
      "2025-03-03 17:36:32,236 WARNING (MISO2_input_data_sanity_check.py <check_values>): Input data parameter c:\\Users\\simsam\\Desktop\\GitHub\\MISO2\\docs\\source\\notebooks\\..\\..\\..\\input\\input_usuk\\MISO2_BuildingsMultiplier_v1.xlsx misses values of type Material which are present in classification file: {'cement', 'bitumen'} \n",
      "\n",
      "2025-03-03 17:36:32,236 WARNING (MISO2_input_data_sanity_check.py <check_values>): Input data parameter c:\\Users\\simsam\\Desktop\\GitHub\\MISO2\\docs\\source\\notebooks\\..\\..\\..\\input\\input_usuk\\MISO2_EoLAbsoluteRecycling_v1.xlsx misses values of type MISO2_country which are present in classification file: {'United States of America', 'United Kingdom'} \n",
      "\n",
      "2025-03-03 17:36:32,236 ERROR (MISO2_input_data_sanity_check.py <check_values>): Classification file misses values from parameter c:\\Users\\simsam\\Desktop\\GitHub\\MISO2\\docs\\source\\notebooks\\..\\..\\..\\input\\input_usuk\\MISO2_EoLAbsoluteRecycling_v1.xlsx of type MISO2_country that are present in input values: {'China'} \n",
      "\n",
      "2025-03-03 17:36:32,236 WARNING (MISO2_input_data_sanity_check.py <check_values>): Input data parameter c:\\Users\\simsam\\Desktop\\GitHub\\MISO2\\docs\\source\\notebooks\\..\\..\\..\\input\\input_usuk\\MISO2_EoLAbsoluteRecycling_v1.xlsx misses values of type Material which are present in classification file: {'concrete', 'nickel', 'metals_other', 'chromium', 'wood', 'glass_cont', 'tin', 'cement', 'aggr_4concr', 'bricks', 'manganese', 'aggr_downcycl', 'bitumen', 'aggr_virgin', 'aggr_4asph', 'asphalt', 'glass_flat'} \n",
      "\n",
      "2025-03-03 17:36:32,252 WARNING (MISO2_input_data_sanity_check.py <check_values>): Input data parameter c:\\Users\\simsam\\Desktop\\GitHub\\MISO2\\docs\\source\\notebooks\\..\\..\\..\\input\\input_usuk\\MISO2_EndUseShares_v1.xlsx misses values of type Material which are present in classification file: {'aggr_4asph', 'aggr_4concr', 'aggr_downcycl', 'aggr_virgin'} \n",
      "\n",
      "2025-03-03 17:36:32,252 WARNING (MISO2_input_data_sanity_check.py <check_values_against_classification>): Dataframe is empty for c:\\Users\\simsam\\Desktop\\GitHub\\MISO2\\docs\\source\\notebooks\\..\\..\\..\\input\\input_usuk\\MISO2_EoLAbsoluteDowncycling_v1.xlsx, skipping further checks\n",
      "2025-03-03 17:36:32,266 WARNING (MISO2_input_data_sanity_check.py <check_values>): Input data parameter c:\\Users\\simsam\\Desktop\\GitHub\\MISO2\\docs\\source\\notebooks\\..\\..\\..\\input\\input_usuk\\MISO2_TotalAbsoluteRecycling_v1.xlsx misses values of type Material which are present in classification file: {'nickel', 'lead', 'copper', 'wood', 'glass_cont', 'tin', 'bricks', 'aggr_4asph', 'asphalt', 'zinc', 'manganese', 'concrete', 'metals_other', 'plastic', 'chromium', 'cement', 'aggr_4concr', 'aggr_downcycl', 'bitumen', 'aggr_virgin', 'glass_flat', 'aluminum'} \n",
      "\n",
      "2025-03-03 17:36:32,273 WARNING (MISO2_input_data_sanity_check.py <check_values_against_classification>): Dataframe is empty for c:\\Users\\simsam\\Desktop\\GitHub\\MISO2\\docs\\source\\notebooks\\..\\..\\..\\input\\input_usuk\\MISO2_TotalRateRecycling_v1.xlsx, skipping further checks\n"
     ]
    }
   ],
   "source": [
    "filenames = get_parameter_filenames(input_path, config_filename)\n",
    "input_data_sanity_check(input_path, filenames, write_back=False)"
   ]
  },
  {
   "cell_type": "markdown",
   "id": "dfda5e4aa143d420",
   "metadata": {
    "collapsed": false
   },
   "source": [
    "Parsing uses ODYM functionality"
   ]
  },
  {
   "cell_type": "code",
   "execution_count": 18,
   "id": "2aaf4a9922ef4eb6",
   "metadata": {
    "collapsed": false
   },
   "outputs": [
    {
     "name": "stderr",
     "output_type": "stream",
     "text": [
      "2025-03-03 17:36:35,926 CRITICAL (ODYM_Functions.py <ReadParameterXLSX>): CLASSIFICATION FILE FATAL ERROR: Classification file of parameter MISO2_Lifetimes is not identical to the classification master file used for the current model run.\n",
      "2025-03-03 17:36:37,801 CRITICAL (ODYM_Functions.py <ReadParameterXLSX>): CLASSIFICATION FILE FATAL ERROR: Classification file of parameter MISO2_EoLRateRecycling is not identical to the classification master file used for the current model run.\n",
      "2025-03-03 17:36:38,353 CRITICAL (ODYM_Functions.py <ReadParameterXLSX>): CLASSIFICATION FILE FATAL ERROR: Classification file of parameter MISO2_EoLRateDowncycling is not identical to the classification master file used for the current model run.\n",
      "2025-03-03 17:36:38,677 CRITICAL (ODYM_Functions.py <ReadParameterXLSX>): CLASSIFICATION FILE FATAL ERROR: Classification file of parameter MISO2_WasteRate_recov_p5 is not identical to the classification master file used for the current model run.\n",
      "2025-03-03 17:36:39,211 CRITICAL (ODYM_Functions.py <ReadParameterXLSX>): CLASSIFICATION FILE FATAL ERROR: Classification file of parameter MISO2_WasteRate_unrecov_p5 is not identical to the classification master file used for the current model run.\n",
      "2025-03-03 17:36:39,645 CRITICAL (ODYM_Functions.py <ReadParameterXLSX>): CLASSIFICATION FILE FATAL ERROR: Classification file of parameter MISO2_WasteRate_recov_p7 is not identical to the classification master file used for the current model run.\n",
      "2025-03-03 17:36:40,215 CRITICAL (ODYM_Functions.py <ReadParameterXLSX>): CLASSIFICATION FILE FATAL ERROR: Classification file of parameter MISO2_WasteRate_unrecov_p7 is not identical to the classification master file used for the current model run.\n",
      "2025-03-03 17:36:40,509 CRITICAL (ODYM_Functions.py <ReadParameterXLSX>): CLASSIFICATION FILE FATAL ERROR: Classification file of parameter MISO2_WasteRate_recov_p9 is not identical to the classification master file used for the current model run.\n",
      "2025-03-03 17:36:40,698 CRITICAL (ODYM_Functions.py <ReadParameterXLSX>): CLASSIFICATION FILE FATAL ERROR: Classification file of parameter MISO2_WasteRate_unrecov_p9 is not identical to the classification master file used for the current model run.\n",
      "2025-03-03 17:36:40,980 CRITICAL (ODYM_Functions.py <ReadParameterXLSX>): CLASSIFICATION FILE FATAL ERROR: Classification file of parameter MISO2_Production_p3_total is not identical to the classification master file used for the current model run.\n",
      "2025-03-03 17:36:41,514 CRITICAL (ODYM_Functions.py <ReadParameterXLSX>): CLASSIFICATION FILE FATAL ERROR: Classification file of parameter MISO2_Production_p3_primary is not identical to the classification master file used for the current model run.\n",
      "2025-03-03 17:36:41,984 CRITICAL (ODYM_Functions.py <ReadParameterXLSX>): CLASSIFICATION FILE FATAL ERROR: Classification file of parameter MISO2_Import_p4 is not identical to the classification master file used for the current model run.\n",
      "2025-03-03 17:36:42,497 CRITICAL (ODYM_Functions.py <ReadParameterXLSX>): CLASSIFICATION FILE FATAL ERROR: Classification file of parameter MISO2_Export_p4 is not identical to the classification master file used for the current model run.\n",
      "2025-03-03 17:36:42,869 CRITICAL (ODYM_Functions.py <ReadParameterXLSX>): CLASSIFICATION FILE FATAL ERROR: Classification file of parameter MISO2_Import_p6 is not identical to the classification master file used for the current model run.\n",
      "2025-03-03 17:36:43,185 CRITICAL (ODYM_Functions.py <ReadParameterXLSX>): CLASSIFICATION FILE FATAL ERROR: Classification file of parameter MISO2_Export_p6 is not identical to the classification master file used for the current model run.\n",
      "2025-03-03 17:36:43,470 CRITICAL (ODYM_Functions.py <ReadParameterXLSX>): CLASSIFICATION FILE FATAL ERROR: Classification file of parameter MISO2_Import_p8 is not identical to the classification master file used for the current model run.\n",
      "2025-03-03 17:36:43,851 CRITICAL (ODYM_Functions.py <ReadParameterXLSX>): CLASSIFICATION FILE FATAL ERROR: Classification file of parameter MISO2_Export_p8 is not identical to the classification master file used for the current model run.\n",
      "2025-03-03 17:36:44,118 CRITICAL (ODYM_Functions.py <ReadParameterXLSX>): CLASSIFICATION FILE FATAL ERROR: Classification file of parameter MISO2_Import_p12 is not identical to the classification master file used for the current model run.\n",
      "2025-03-03 17:36:44,404 CRITICAL (ODYM_Functions.py <ReadParameterXLSX>): CLASSIFICATION FILE FATAL ERROR: Classification file of parameter MISO2_Export_p12 is not identical to the classification master file used for the current model run.\n",
      "2025-03-03 17:36:45,862 CRITICAL (ODYM_Functions.py <ReadParameterXLSX>): CLASSIFICATION FILE FATAL ERROR: Classification file of parameter MISO2_Lifetimes_deviation is not identical to the classification master file used for the current model run.\n",
      "2025-03-03 17:36:47,592 CRITICAL (ODYM_Functions.py <ReadParameterXLSX>): CLASSIFICATION FILE FATAL ERROR: Classification file of parameter MISO2_RoadMultiplier is not identical to the classification master file used for the current model run.\n",
      "2025-03-03 17:36:48,543 CRITICAL (ODYM_Functions.py <ReadParameterXLSX>): CLASSIFICATION FILE FATAL ERROR: Classification file of parameter MISO2_BuildingsMultiplier is not identical to the classification master file used for the current model run.\n",
      "2025-03-03 17:36:49,126 CRITICAL (ODYM_Functions.py <ReadParameterXLSX>): CLASSIFICATION FILE FATAL ERROR: Classification file of parameter MISO2_EoLAbsoluteRecycling is not identical to the classification master file used for the current model run.\n",
      "2025-03-03 17:36:52,624 CRITICAL (ODYM_Functions.py <ReadParameterXLSX>): CLASSIFICATION FILE FATAL ERROR: Classification file of parameter MISO2_EndUseShares is not identical to the classification master file used for the current model run.\n",
      "2025-03-03 17:36:56,955 CRITICAL (ODYM_Functions.py <ReadParameterXLSX>): CLASSIFICATION FILE FATAL ERROR: Classification file of parameter MISO2_EoLAbsoluteDowncycling is not identical to the classification master file used for the current model run.\n",
      "2025-03-03 17:36:57,164 CRITICAL (ODYM_Functions.py <ReadParameterXLSX>): CLASSIFICATION FILE FATAL ERROR: Classification file of parameter MISO2_TotalAbsoluteRecycling is not identical to the classification master file used for the current model run.\n",
      "2025-03-03 17:36:57,328 CRITICAL (ODYM_Functions.py <ReadParameterXLSX>): CLASSIFICATION FILE FATAL ERROR: Classification file of parameter MISO2_TotalRateRecycling is not identical to the classification master file used for the current model run.\n"
     ]
    }
   ],
   "source": [
    "miso_config = MISO2Config(data_path=input_path,\n",
    "                          config_path=config_path,\n",
    "                          timestamp=timestamp)\n",
    "\n",
    "miso_config.initialise_from_excel(config_filename=config_filename,\n",
    "                                  classification_filename=classification_filename,\n",
    "                                  parse_uncertainty=True)"
   ]
  },
  {
   "cell_type": "markdown",
   "id": "e249e8bec1c02bad",
   "metadata": {
    "collapsed": false
   },
   "source": [
    "Save the config for later use in a binary format"
   ]
  },
  {
   "cell_type": "code",
   "execution_count": 21,
   "id": "48a8b350",
   "metadata": {},
   "outputs": [
    {
     "name": "stdout",
     "output_type": "stream",
     "text": [
      "This folder already exists.\n"
     ]
    }
   ],
   "source": [
    "# This whole code was additionally implemented by Simon Graf on the 03.03.2025 since there was a FileNotFoundError for the pickle saving\n",
    "# Define the folder path where you want to save the pickle\n",
    "folder_path = os.path.join(main_path, \"config\")\n",
    "\n",
    "# Create the folder if it doesn't exist\n",
    "if not os.path.exists(folder_path):\n",
    "    os.makedirs(folder_path)\n",
    "    print(\"Folder created!\")\n",
    "else:\n",
    "    print(\"This folder already exists.\")\n",
    "\n",
    "# Now save the pickle\n",
    "miso_config.save_to_pickle(\"selected_countries_config.pickle\")"
   ]
  },
  {
   "cell_type": "code",
   "execution_count": 20,
   "id": "5d306e20",
   "metadata": {},
   "outputs": [],
   "source": [
    "# Get the current working directory\n",
    "current_folder = os.getcwd()\n",
    "\n",
    "# Save the pickle in the current folder\n",
    "miso_config.save_to_pickle(\"selected_countries_config.pickle\", folder=current_folder)"
   ]
  },
  {
   "cell_type": "code",
   "execution_count": null,
   "id": "46f14f5a855284ed",
   "metadata": {
    "collapsed": false
   },
   "outputs": [],
   "source": [
    "#miso_config.save_to_pickle(\"selected_countries_config.pickle\") #thats the original code. However, this saves the pickle into current directionary, instead of a config folder in main, where it is needed for later processing.\n"
   ]
  },
  {
   "cell_type": "code",
   "execution_count": null,
   "id": "5b103cb5",
   "metadata": {},
   "outputs": [],
   "source": []
  }
 ],
 "metadata": {
  "kernelspec": {
   "display_name": "miso_env",
   "language": "python",
   "name": "python3"
  },
  "language_info": {
   "codemirror_mode": {
    "name": "ipython",
    "version": 3
   },
   "file_extension": ".py",
   "mimetype": "text/x-python",
   "name": "python",
   "nbconvert_exporter": "python",
   "pygments_lexer": "ipython3",
   "version": "3.8.11"
  }
 },
 "nbformat": 4,
 "nbformat_minor": 5
}
