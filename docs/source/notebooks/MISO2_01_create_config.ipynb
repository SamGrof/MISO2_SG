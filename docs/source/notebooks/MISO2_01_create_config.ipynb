{
 "cells": [
  {
   "cell_type": "markdown",
   "source": [
    "# Creating a MISO2 config"
   ],
   "metadata": {
    "collapsed": false
   },
   "id": "fe7671abd1442f6b"
  },
  {
   "cell_type": "code",
   "outputs": [],
   "source": [
    "import logging\n",
    "import os\n",
    "from datetime import datetime\n",
    "from util.MISO2_file_manager import get_parameter_filenames\n",
    "from model.config.MISO2_logger import get_MISO2_logger\n",
    "from model.config.MISO2_config import MISO2Config\n",
    "from preprocessing.checks.MISO2_input_data_sanity_check import input_data_sanity_check"
   ],
   "metadata": {
    "collapsed": false,
    "is_executing": true
   },
   "id": "26e215dc61d18e32",
   "execution_count": 0
  },
  {
   "cell_type": "markdown",
   "source": [
    "Set file paths"
   ],
   "metadata": {
    "collapsed": false
   },
   "id": "b37d0c344b25c937"
  },
  {
   "cell_type": "code",
   "outputs": [],
   "source": [
    "main_path = os.path.join(os.getcwd(), os.pardir, os.pardir, os.pardir)\n",
    "input_path = os.path.join(main_path, \"input\", \"input_usuk\")\n",
    "config_path = os.path.join(main_path, \"config\")\n",
    "config_filename = 'MISO2_Config_USUK_v1.xlsx'\n",
    "classification_filename = 'MISO2_Classifications_Master_USUK_v1.xlsx'\n",
    "# config and classification need to be manually set. different configs may make use of the same set of input parameter files"
   ],
   "metadata": {
    "collapsed": false,
    "is_executing": true
   },
   "id": "774f51f54c70f2e5",
   "execution_count": null
  },
  {
   "cell_type": "markdown",
   "source": [
    "Set logging levels"
   ],
   "metadata": {
    "collapsed": false
   },
   "id": "568372774b8fb99c"
  },
  {
   "cell_type": "code",
   "outputs": [],
   "source": [
    "timestamp = datetime.now().strftime(\"%Y_%m_%d_%H_%M_%S\")\n",
    "\n",
    "get_MISO2_logger(\n",
    "    log_filename='MISO2_log_' + timestamp + \".txt\",\n",
    "    log_pathname=os.path.join(main_path, 'logs'),\n",
    "    file_level=None,\n",
    "    console_level=logging.INFO)\n"
   ],
   "metadata": {
    "collapsed": false,
    "is_executing": true
   },
   "id": "6273c143d9ad11eb",
   "execution_count": null
  },
  {
   "cell_type": "markdown",
   "source": [
    "It never hurts to make a sanity data check of the input files. Note that this has a write back option available which you probably do not want to use blindly. The sanity check controls for dimensions and data availability and emits warnings if it encounters a mismatch. Output is omitted here."
   ],
   "metadata": {
    "collapsed": false
   },
   "id": "b4d25d24a4c54713"
  },
  {
   "cell_type": "code",
   "outputs": [],
   "source": [
    "filenames = get_parameter_filenames(input_path, config_filename)\n",
    "input_data_sanity_check(input_path, filenames, write_back=False)"
   ],
   "metadata": {
    "collapsed": false
   },
   "id": "26c4f7300003ea88",
   "execution_count": null
  },
  {
   "cell_type": "code",
   "outputs": [
    {
     "name": "stderr",
     "output_type": "stream",
     "text": [
      "2024-07-03 16:23:23,759 INFO (MISO2_config.py <initialise_from_excel>): Initialising config object from excel\n",
      "2024-07-03 16:23:23,761 INFO (MISO2_config.py <_load_projects_spec>): Loading Project Specs\n",
      "2024-07-03 16:23:23,888 INFO (MISO2_config.py <_load_projects_spec>): Scenario name:MISO2\n",
      "2024-07-03 16:23:23,889 INFO (MISO2_config.py <_load_projects_spec>): Reading and parsing config table, including the model index table, from model config sheet.\n",
      "2024-07-03 16:23:23,889 INFO (ODYM_Functions.py <ParseConfigFile>): Read parameter list from model config sheet.\n",
      "2024-07-03 16:23:23,890 INFO (ODYM_Functions.py <ParseConfigFile>): Read process list from model config sheet.\n",
      "2024-07-03 16:23:23,890 INFO (ODYM_Functions.py <ParseConfigFile>): Read model run control from model config sheet.\n",
      "2024-07-03 16:23:23,891 INFO (ODYM_Functions.py <ParseConfigFile>): Read model output control from model config sheet.\n",
      "2024-07-03 16:23:23,927 INFO (MISO2_config.py <_create_classifications>): Define model classifications and select items for model classifications                     according to information provided by config file.\n",
      "2024-07-03 16:23:23,928 INFO (MISO2_config.py <_set_model_duration>): Defining model index table and parameter dictionary\n",
      "2024-07-03 16:23:23,928 INFO (MISO2_config.py <_create_index_table>): Define index table dataframe.\n",
      "2024-07-03 16:23:23,936 INFO (MISO2_config.py <_define_dimension_sizes>): Defining dimension sizes\n",
      "2024-07-03 16:23:23,937 INFO (MISO2_config.py <_read_uncertainty_settings_from_excel>): Reading uncertainty settings from: /Users/benedikt/Documents/GitHub/MISO2/docs/source/notebooks/../../../input/input_usuk/MISO2_uncertainty_distribution_settings.xlsx\n",
      "2024-07-03 16:23:23,976 INFO (MISO2_config.py <_read_parameterdict_from_excel>): Reading parameters from excel\n",
      "2024-07-03 16:23:23,977 INFO (MISO2_config.py <_read_parameterdict_from_excel>): Reading parameter MISO2_Lifetimes\n",
      "2024-07-03 16:23:23,977 INFO (MISO2_config.py <_read_parameterdict_from_excel>): Parsing with uncertainty = true\n",
      "2024-07-03 16:23:24,609 CRITICAL (ODYM_Functions.py <ReadParameterXLSX>): CLASSIFICATION FILE FATAL ERROR: Classification file of parameter MISO2_Lifetimes is not identical to the classification master file used for the current model run.\n",
      "2024-07-03 16:23:25,214 INFO (ODYM_Functions.py <ReadParameterXLSX>): A total of 79982 values was read from file for parameter MISO2_Lifetimes.\n",
      "2024-07-03 16:23:25,215 INFO (ODYM_Functions.py <ReadParameterXLSX>): 79982.0 of 133056 values for parameter MISO2_Lifetimes were assigned.\n",
      "2024-07-03 16:23:25,216 INFO (MISO2_config.py <_read_parameterdict_from_excel>): Reading parameter MISO2_EoLRateRecycling\n",
      "2024-07-03 16:23:25,216 INFO (MISO2_config.py <_read_parameterdict_from_excel>): Parsing with uncertainty = true\n",
      "2024-07-03 16:23:25,507 CRITICAL (ODYM_Functions.py <ReadParameterXLSX>): CLASSIFICATION FILE FATAL ERROR: Classification file of parameter MISO2_EoLRateRecycling is not identical to the classification master file used for the current model run.\n",
      "2024-07-03 16:23:25,510 INFO (ODYM_Functions.py <ReadParameterXLSX>): 2 Reading from UNCERTAINTY PAR SHEET: values_uncert which is of type <class 'openpyxl.worksheet.worksheet.Worksheet'>\n",
      "2024-07-03 16:23:25,700 INFO (ODYM_Functions.py <ReadParameterXLSX>): A total of 8668 values was read from file for parameter MISO2_EoLRateRecycling.\n",
      "2024-07-03 16:23:25,701 INFO (ODYM_Functions.py <ReadParameterXLSX>): 8668.0 of 9504 values for parameter MISO2_EoLRateRecycling were assigned.\n",
      "2024-07-03 16:23:25,701 INFO (MISO2_config.py <_read_parameterdict_from_excel>): Reading parameter MISO2_EoLRateDowncycling\n",
      "2024-07-03 16:23:25,702 INFO (MISO2_config.py <_read_parameterdict_from_excel>): Parsing with uncertainty = true\n",
      "2024-07-03 16:23:25,739 CRITICAL (ODYM_Functions.py <ReadParameterXLSX>): CLASSIFICATION FILE FATAL ERROR: Classification file of parameter MISO2_EoLRateDowncycling is not identical to the classification master file used for the current model run.\n",
      "2024-07-03 16:23:25,743 INFO (ODYM_Functions.py <ReadParameterXLSX>): 2 Reading from UNCERTAINTY PAR SHEET: values_uncert which is of type <class 'openpyxl.worksheet.worksheet.Worksheet'>\n",
      "2024-07-03 16:23:25,810 INFO (ODYM_Functions.py <ReadParameterXLSX>): A total of 1182 values was read from file for parameter MISO2_EoLRateDowncycling.\n",
      "2024-07-03 16:23:25,810 INFO (ODYM_Functions.py <ReadParameterXLSX>): 1182.0 of 9504 values for parameter MISO2_EoLRateDowncycling were assigned.\n",
      "2024-07-03 16:23:25,811 INFO (MISO2_config.py <_read_parameterdict_from_excel>): Reading parameter MISO2_WasteRate_recov_p5\n",
      "2024-07-03 16:23:25,811 INFO (MISO2_config.py <_read_parameterdict_from_excel>): Parsing with uncertainty = true\n",
      "2024-07-03 16:23:25,894 CRITICAL (ODYM_Functions.py <ReadParameterXLSX>): CLASSIFICATION FILE FATAL ERROR: Classification file of parameter MISO2_WasteRate_recov_p5 is not identical to the classification master file used for the current model run.\n",
      "2024-07-03 16:23:25,898 INFO (ODYM_Functions.py <ReadParameterXLSX>): 2 Reading from UNCERTAINTY PAR SHEET: values_uncert which is of type <class 'openpyxl.worksheet.worksheet.Worksheet'>\n",
      "2024-07-03 16:23:26,012 INFO (ODYM_Functions.py <ReadParameterXLSX>): A total of 3940 values was read from file for parameter MISO2_WasteRate_recov_p5.\n",
      "2024-07-03 16:23:26,012 INFO (ODYM_Functions.py <ReadParameterXLSX>): 3940.0 of 9504 values for parameter MISO2_WasteRate_recov_p5 were assigned.\n",
      "2024-07-03 16:23:26,013 INFO (MISO2_config.py <_read_parameterdict_from_excel>): Reading parameter MISO2_WasteRate_unrecov_p5\n",
      "2024-07-03 16:23:26,013 INFO (MISO2_config.py <_read_parameterdict_from_excel>): Parsing with uncertainty = true\n",
      "2024-07-03 16:23:26,138 CRITICAL (ODYM_Functions.py <ReadParameterXLSX>): CLASSIFICATION FILE FATAL ERROR: Classification file of parameter MISO2_WasteRate_unrecov_p5 is not identical to the classification master file used for the current model run.\n",
      "2024-07-03 16:23:26,141 INFO (ODYM_Functions.py <ReadParameterXLSX>): 2 Reading from UNCERTAINTY PAR SHEET: values_uncert which is of type <class 'openpyxl.worksheet.worksheet.Worksheet'>\n",
      "2024-07-03 16:23:26,244 INFO (ODYM_Functions.py <ReadParameterXLSX>): A total of 3152 values was read from file for parameter MISO2_WasteRate_unrecov_p5.\n",
      "2024-07-03 16:23:26,245 INFO (ODYM_Functions.py <ReadParameterXLSX>): 3152.0 of 9504 values for parameter MISO2_WasteRate_unrecov_p5 were assigned.\n",
      "2024-07-03 16:23:26,246 INFO (MISO2_config.py <_read_parameterdict_from_excel>): Reading parameter MISO2_WasteRate_recov_p7\n",
      "2024-07-03 16:23:26,246 INFO (MISO2_config.py <_read_parameterdict_from_excel>): Parsing with uncertainty = true\n",
      "2024-07-03 16:23:26,338 CRITICAL (ODYM_Functions.py <ReadParameterXLSX>): CLASSIFICATION FILE FATAL ERROR: Classification file of parameter MISO2_WasteRate_recov_p7 is not identical to the classification master file used for the current model run.\n",
      "2024-07-03 16:23:26,342 INFO (ODYM_Functions.py <ReadParameterXLSX>): 2 Reading from UNCERTAINTY PAR SHEET: values_uncert which is of type <class 'openpyxl.worksheet.worksheet.Worksheet'>\n",
      "2024-07-03 16:23:26,462 INFO (ODYM_Functions.py <ReadParameterXLSX>): A total of 4334 values was read from file for parameter MISO2_WasteRate_recov_p7.\n",
      "2024-07-03 16:23:26,463 INFO (ODYM_Functions.py <ReadParameterXLSX>): 4334.0 of 9504 values for parameter MISO2_WasteRate_recov_p7 were assigned.\n",
      "2024-07-03 16:23:26,463 INFO (MISO2_config.py <_read_parameterdict_from_excel>): Reading parameter MISO2_WasteRate_unrecov_p7\n",
      "2024-07-03 16:23:26,463 INFO (MISO2_config.py <_read_parameterdict_from_excel>): Parsing with uncertainty = true\n",
      "2024-07-03 16:23:26,599 CRITICAL (ODYM_Functions.py <ReadParameterXLSX>): CLASSIFICATION FILE FATAL ERROR: Classification file of parameter MISO2_WasteRate_unrecov_p7 is not identical to the classification master file used for the current model run.\n",
      "2024-07-03 16:23:26,602 INFO (ODYM_Functions.py <ReadParameterXLSX>): 2 Reading from UNCERTAINTY PAR SHEET: values_uncert which is of type <class 'openpyxl.worksheet.worksheet.Worksheet'>\n",
      "2024-07-03 16:23:26,720 INFO (ODYM_Functions.py <ReadParameterXLSX>): A total of 4334 values was read from file for parameter MISO2_WasteRate_unrecov_p7.\n",
      "2024-07-03 16:23:26,720 INFO (ODYM_Functions.py <ReadParameterXLSX>): 4334.0 of 9504 values for parameter MISO2_WasteRate_unrecov_p7 were assigned.\n",
      "2024-07-03 16:23:26,721 INFO (MISO2_config.py <_read_parameterdict_from_excel>): Reading parameter MISO2_WasteRate_recov_p9\n",
      "2024-07-03 16:23:26,721 INFO (MISO2_config.py <_read_parameterdict_from_excel>): Parsing with uncertainty = true\n",
      "2024-07-03 16:23:26,733 CRITICAL (ODYM_Functions.py <ReadParameterXLSX>): CLASSIFICATION FILE FATAL ERROR: Classification file of parameter MISO2_WasteRate_recov_p9 is not identical to the classification master file used for the current model run.\n",
      "2024-07-03 16:23:26,736 INFO (ODYM_Functions.py <ReadParameterXLSX>): 2 Reading from UNCERTAINTY PAR SHEET: values_uncert which is of type <class 'openpyxl.worksheet.worksheet.Worksheet'>\n",
      "2024-07-03 16:23:26,784 INFO (ODYM_Functions.py <ReadParameterXLSX>): A total of 0 values was read from file for parameter MISO2_WasteRate_recov_p9.\n",
      "2024-07-03 16:23:26,785 INFO (ODYM_Functions.py <ReadParameterXLSX>): 0.0 of 9504 values for parameter MISO2_WasteRate_recov_p9 were assigned.\n",
      "2024-07-03 16:23:26,785 INFO (MISO2_config.py <_read_parameterdict_from_excel>): Reading parameter MISO2_WasteRate_unrecov_p9\n",
      "2024-07-03 16:23:26,786 INFO (MISO2_config.py <_read_parameterdict_from_excel>): Parsing with uncertainty = true\n",
      "2024-07-03 16:23:26,821 CRITICAL (ODYM_Functions.py <ReadParameterXLSX>): CLASSIFICATION FILE FATAL ERROR: Classification file of parameter MISO2_WasteRate_unrecov_p9 is not identical to the classification master file used for the current model run.\n",
      "2024-07-03 16:23:26,824 INFO (ODYM_Functions.py <ReadParameterXLSX>): 2 Reading from UNCERTAINTY PAR SHEET: values_uncert which is of type <class 'openpyxl.worksheet.worksheet.Worksheet'>\n",
      "2024-07-03 16:23:26,890 INFO (ODYM_Functions.py <ReadParameterXLSX>): A total of 1182 values was read from file for parameter MISO2_WasteRate_unrecov_p9.\n",
      "2024-07-03 16:23:26,891 INFO (ODYM_Functions.py <ReadParameterXLSX>): 1182.0 of 9504 values for parameter MISO2_WasteRate_unrecov_p9 were assigned.\n",
      "2024-07-03 16:23:26,891 INFO (MISO2_config.py <_read_parameterdict_from_excel>): Reading parameter MISO2_Production_p3_total\n",
      "2024-07-03 16:23:26,892 INFO (MISO2_config.py <_read_parameterdict_from_excel>): Parsing with uncertainty = true\n",
      "2024-07-03 16:23:27,018 CRITICAL (ODYM_Functions.py <ReadParameterXLSX>): CLASSIFICATION FILE FATAL ERROR: Classification file of parameter MISO2_Production_p3_total is not identical to the classification master file used for the current model run.\n",
      "2024-07-03 16:23:27,021 INFO (ODYM_Functions.py <ReadParameterXLSX>): 2 Reading from UNCERTAINTY PAR SHEET: values_uncert which is of type <class 'openpyxl.worksheet.worksheet.Worksheet'>\n",
      "2024-07-03 16:23:27,108 INFO (ODYM_Functions.py <ReadParameterXLSX>): A total of 2364 values was read from file for parameter MISO2_Production_p3_total.\n",
      "2024-07-03 16:23:27,109 INFO (ODYM_Functions.py <ReadParameterXLSX>): 2364.0 of 9504 values for parameter MISO2_Production_p3_total were assigned.\n",
      "2024-07-03 16:23:27,109 INFO (MISO2_config.py <_read_parameterdict_from_excel>): Reading parameter MISO2_Production_p3_primary\n",
      "2024-07-03 16:23:27,109 INFO (MISO2_config.py <_read_parameterdict_from_excel>): Parsing with uncertainty = true\n",
      "2024-07-03 16:23:27,225 CRITICAL (ODYM_Functions.py <ReadParameterXLSX>): CLASSIFICATION FILE FATAL ERROR: Classification file of parameter MISO2_Production_p3_primary is not identical to the classification master file used for the current model run.\n",
      "2024-07-03 16:23:27,229 INFO (ODYM_Functions.py <ReadParameterXLSX>): 2 Reading from UNCERTAINTY PAR SHEET: values_uncert which is of type <class 'openpyxl.worksheet.worksheet.Worksheet'>\n",
      "2024-07-03 16:23:27,345 INFO (ODYM_Functions.py <ReadParameterXLSX>): A total of 4334 values was read from file for parameter MISO2_Production_p3_primary.\n",
      "2024-07-03 16:23:27,345 INFO (ODYM_Functions.py <ReadParameterXLSX>): 4334.0 of 9504 values for parameter MISO2_Production_p3_primary were assigned.\n",
      "2024-07-03 16:23:27,346 INFO (MISO2_config.py <_read_parameterdict_from_excel>): Reading parameter MISO2_Import_p4\n",
      "2024-07-03 16:23:27,346 INFO (MISO2_config.py <_read_parameterdict_from_excel>): Parsing with uncertainty = true\n",
      "2024-07-03 16:23:27,495 CRITICAL (ODYM_Functions.py <ReadParameterXLSX>): CLASSIFICATION FILE FATAL ERROR: Classification file of parameter MISO2_Import_p4 is not identical to the classification master file used for the current model run.\n",
      "2024-07-03 16:23:27,498 INFO (ODYM_Functions.py <ReadParameterXLSX>): 2 Reading from UNCERTAINTY PAR SHEET: values_uncert which is of type <class 'openpyxl.worksheet.worksheet.Worksheet'>\n",
      "2024-07-03 16:23:27,590 INFO (ODYM_Functions.py <ReadParameterXLSX>): A total of 3510 values was read from file for parameter MISO2_Import_p4.\n",
      "2024-07-03 16:23:27,590 INFO (ODYM_Functions.py <ReadParameterXLSX>): 3510.0 of 9504 values for parameter MISO2_Import_p4 were assigned.\n",
      "2024-07-03 16:23:27,591 INFO (MISO2_config.py <_read_parameterdict_from_excel>): Reading parameter MISO2_Export_p4\n",
      "2024-07-03 16:23:27,591 INFO (MISO2_config.py <_read_parameterdict_from_excel>): Parsing with uncertainty = true\n",
      "2024-07-03 16:23:27,695 CRITICAL (ODYM_Functions.py <ReadParameterXLSX>): CLASSIFICATION FILE FATAL ERROR: Classification file of parameter MISO2_Export_p4 is not identical to the classification master file used for the current model run.\n",
      "2024-07-03 16:23:27,699 INFO (ODYM_Functions.py <ReadParameterXLSX>): 2 Reading from UNCERTAINTY PAR SHEET: values_uncert which is of type <class 'openpyxl.worksheet.worksheet.Worksheet'>\n",
      "2024-07-03 16:23:27,793 INFO (ODYM_Functions.py <ReadParameterXLSX>): A total of 3510 values was read from file for parameter MISO2_Export_p4.\n",
      "2024-07-03 16:23:27,794 INFO (ODYM_Functions.py <ReadParameterXLSX>): 3510.0 of 9504 values for parameter MISO2_Export_p4 were assigned.\n",
      "2024-07-03 16:23:27,794 INFO (MISO2_config.py <_read_parameterdict_from_excel>): Reading parameter MISO2_Import_p6\n",
      "2024-07-03 16:23:27,794 INFO (MISO2_config.py <_read_parameterdict_from_excel>): Parsing with uncertainty = true\n",
      "2024-07-03 16:23:27,920 CRITICAL (ODYM_Functions.py <ReadParameterXLSX>): CLASSIFICATION FILE FATAL ERROR: Classification file of parameter MISO2_Import_p6 is not identical to the classification master file used for the current model run.\n",
      "2024-07-03 16:23:27,924 INFO (ODYM_Functions.py <ReadParameterXLSX>): 2 Reading from UNCERTAINTY PAR SHEET: values_uncert which is of type <class 'openpyxl.worksheet.worksheet.Worksheet'>\n",
      "2024-07-03 16:23:28,002 INFO (ODYM_Functions.py <ReadParameterXLSX>): A total of 2574 values was read from file for parameter MISO2_Import_p6.\n",
      "2024-07-03 16:23:28,003 INFO (ODYM_Functions.py <ReadParameterXLSX>): 2574.0 of 9504 values for parameter MISO2_Import_p6 were assigned.\n",
      "2024-07-03 16:23:28,004 INFO (MISO2_config.py <_read_parameterdict_from_excel>): Reading parameter MISO2_Export_p6\n",
      "2024-07-03 16:23:28,004 INFO (MISO2_config.py <_read_parameterdict_from_excel>): Parsing with uncertainty = true\n",
      "2024-07-03 16:23:28,087 CRITICAL (ODYM_Functions.py <ReadParameterXLSX>): CLASSIFICATION FILE FATAL ERROR: Classification file of parameter MISO2_Export_p6 is not identical to the classification master file used for the current model run.\n",
      "2024-07-03 16:23:28,090 INFO (ODYM_Functions.py <ReadParameterXLSX>): 2 Reading from UNCERTAINTY PAR SHEET: values_uncert which is of type <class 'openpyxl.worksheet.worksheet.Worksheet'>\n",
      "2024-07-03 16:23:28,167 INFO (ODYM_Functions.py <ReadParameterXLSX>): A total of 2574 values was read from file for parameter MISO2_Export_p6.\n",
      "2024-07-03 16:23:28,167 INFO (ODYM_Functions.py <ReadParameterXLSX>): 2574.0 of 9504 values for parameter MISO2_Export_p6 were assigned.\n",
      "2024-07-03 16:23:28,168 INFO (MISO2_config.py <_read_parameterdict_from_excel>): Reading parameter MISO2_Import_p8\n",
      "2024-07-03 16:23:28,168 INFO (MISO2_config.py <_read_parameterdict_from_excel>): Parsing with uncertainty = true\n",
      "2024-07-03 16:23:28,230 CRITICAL (ODYM_Functions.py <ReadParameterXLSX>): CLASSIFICATION FILE FATAL ERROR: Classification file of parameter MISO2_Import_p8 is not identical to the classification master file used for the current model run.\n",
      "2024-07-03 16:23:28,233 INFO (ODYM_Functions.py <ReadParameterXLSX>): 2 Reading from UNCERTAINTY PAR SHEET: values_uncert which is of type <class 'openpyxl.worksheet.worksheet.Worksheet'>\n",
      "2024-07-03 16:23:28,347 INFO (ODYM_Functions.py <ReadParameterXLSX>): A total of 1872 values was read from file for parameter MISO2_Import_p8.\n",
      "2024-07-03 16:23:28,348 INFO (ODYM_Functions.py <ReadParameterXLSX>): 1872.0 of 9504 values for parameter MISO2_Import_p8 were assigned.\n",
      "2024-07-03 16:23:28,348 INFO (MISO2_config.py <_read_parameterdict_from_excel>): Reading parameter MISO2_Export_p8\n",
      "2024-07-03 16:23:28,349 INFO (MISO2_config.py <_read_parameterdict_from_excel>): Parsing with uncertainty = true\n",
      "2024-07-03 16:23:28,412 CRITICAL (ODYM_Functions.py <ReadParameterXLSX>): CLASSIFICATION FILE FATAL ERROR: Classification file of parameter MISO2_Export_p8 is not identical to the classification master file used for the current model run.\n",
      "2024-07-03 16:23:28,416 INFO (ODYM_Functions.py <ReadParameterXLSX>): 2 Reading from UNCERTAINTY PAR SHEET: values_uncert which is of type <class 'openpyxl.worksheet.worksheet.Worksheet'>\n",
      "2024-07-03 16:23:28,483 INFO (ODYM_Functions.py <ReadParameterXLSX>): A total of 1872 values was read from file for parameter MISO2_Export_p8.\n",
      "2024-07-03 16:23:28,483 INFO (ODYM_Functions.py <ReadParameterXLSX>): 1872.0 of 9504 values for parameter MISO2_Export_p8 were assigned.\n",
      "2024-07-03 16:23:28,483 INFO (MISO2_config.py <_read_parameterdict_from_excel>): Reading parameter MISO2_Import_p12\n",
      "2024-07-03 16:23:28,484 INFO (MISO2_config.py <_read_parameterdict_from_excel>): Parsing with uncertainty = true\n",
      "2024-07-03 16:23:28,551 CRITICAL (ODYM_Functions.py <ReadParameterXLSX>): CLASSIFICATION FILE FATAL ERROR: Classification file of parameter MISO2_Import_p12 is not identical to the classification master file used for the current model run.\n",
      "2024-07-03 16:23:28,555 INFO (ODYM_Functions.py <ReadParameterXLSX>): 2 Reading from UNCERTAINTY PAR SHEET: values_uncert which is of type <class 'openpyxl.worksheet.worksheet.Worksheet'>\n",
      "2024-07-03 16:23:28,623 INFO (ODYM_Functions.py <ReadParameterXLSX>): A total of 2106 values was read from file for parameter MISO2_Import_p12.\n",
      "2024-07-03 16:23:28,624 INFO (ODYM_Functions.py <ReadParameterXLSX>): 2106.0 of 9504 values for parameter MISO2_Import_p12 were assigned.\n",
      "2024-07-03 16:23:28,624 INFO (MISO2_config.py <_read_parameterdict_from_excel>): Reading parameter MISO2_Export_p12\n",
      "2024-07-03 16:23:28,624 INFO (MISO2_config.py <_read_parameterdict_from_excel>): Parsing with uncertainty = true\n",
      "2024-07-03 16:23:28,693 CRITICAL (ODYM_Functions.py <ReadParameterXLSX>): CLASSIFICATION FILE FATAL ERROR: Classification file of parameter MISO2_Export_p12 is not identical to the classification master file used for the current model run.\n",
      "2024-07-03 16:23:28,697 INFO (ODYM_Functions.py <ReadParameterXLSX>): 2 Reading from UNCERTAINTY PAR SHEET: values_uncert which is of type <class 'openpyxl.worksheet.worksheet.Worksheet'>\n",
      "2024-07-03 16:23:28,766 INFO (ODYM_Functions.py <ReadParameterXLSX>): A total of 2106 values was read from file for parameter MISO2_Export_p12.\n",
      "2024-07-03 16:23:28,767 INFO (ODYM_Functions.py <ReadParameterXLSX>): 2106.0 of 9504 values for parameter MISO2_Export_p12 were assigned.\n",
      "2024-07-03 16:23:28,767 INFO (MISO2_config.py <_read_parameterdict_from_excel>): Reading parameter MISO2_Lifetimes_deviation\n",
      "2024-07-03 16:23:28,767 INFO (MISO2_config.py <_read_parameterdict_from_excel>): Parsing with uncertainty = true\n",
      "2024-07-03 16:23:29,474 CRITICAL (ODYM_Functions.py <ReadParameterXLSX>): CLASSIFICATION FILE FATAL ERROR: Classification file of parameter MISO2_Lifetimes_deviation is not identical to the classification master file used for the current model run.\n",
      "2024-07-03 16:23:30,078 INFO (ODYM_Functions.py <ReadParameterXLSX>): A total of 79982 values was read from file for parameter MISO2_Lifetimes_deviation.\n",
      "2024-07-03 16:23:30,079 INFO (ODYM_Functions.py <ReadParameterXLSX>): 79982.0 of 133056 values for parameter MISO2_Lifetimes_deviation were assigned.\n",
      "2024-07-03 16:23:30,080 INFO (MISO2_config.py <_read_parameterdict_from_excel>): Reading parameter MISO2_RoadMultiplier\n",
      "2024-07-03 16:23:30,080 INFO (MISO2_config.py <_read_parameterdict_from_excel>): Parsing with uncertainty = true\n",
      "2024-07-03 16:23:30,251 CRITICAL (ODYM_Functions.py <ReadParameterXLSX>): CLASSIFICATION FILE FATAL ERROR: Classification file of parameter MISO2_RoadMultiplier is not identical to the classification master file used for the current model run.\n",
      "2024-07-03 16:23:30,254 INFO (ODYM_Functions.py <ReadParameterXLSX>): 2 Reading from UNCERTAINTY PAR SHEET: values_uncert which is of type <class 'openpyxl.worksheet.worksheet.Worksheet'>\n",
      "2024-07-03 16:23:30,438 INFO (ODYM_Functions.py <ReadParameterXLSX>): A total of 8668 values was read from file for parameter MISO2_RoadMultiplier.\n",
      "2024-07-03 16:23:30,439 INFO (ODYM_Functions.py <ReadParameterXLSX>): 8668.0 of 9504 values for parameter MISO2_RoadMultiplier were assigned.\n",
      "2024-07-03 16:23:30,439 INFO (MISO2_config.py <_read_parameterdict_from_excel>): Reading parameter MISO2_BuildingsMultiplier\n",
      "2024-07-03 16:23:30,440 INFO (MISO2_config.py <_read_parameterdict_from_excel>): Parsing with uncertainty = true\n",
      "2024-07-03 16:23:30,734 CRITICAL (ODYM_Functions.py <ReadParameterXLSX>): CLASSIFICATION FILE FATAL ERROR: Classification file of parameter MISO2_BuildingsMultiplier is not identical to the classification master file used for the current model run.\n",
      "2024-07-03 16:23:30,737 INFO (ODYM_Functions.py <ReadParameterXLSX>): 2 Reading from UNCERTAINTY PAR SHEET: values_uncert which is of type <class 'openpyxl.worksheet.worksheet.Worksheet'>\n",
      "2024-07-03 16:23:30,920 INFO (ODYM_Functions.py <ReadParameterXLSX>): A total of 8668 values was read from file for parameter MISO2_BuildingsMultiplier.\n",
      "2024-07-03 16:23:30,921 INFO (ODYM_Functions.py <ReadParameterXLSX>): 8668.0 of 9504 values for parameter MISO2_BuildingsMultiplier were assigned.\n",
      "2024-07-03 16:23:30,921 INFO (MISO2_config.py <_read_parameterdict_from_excel>): Reading parameter MISO2_EoLAbsoluteRecycling\n",
      "2024-07-03 16:23:30,921 INFO (MISO2_config.py <_read_parameterdict_from_excel>): Parsing with uncertainty = true\n",
      "2024-07-03 16:23:30,961 CRITICAL (ODYM_Functions.py <ReadParameterXLSX>): CLASSIFICATION FILE FATAL ERROR: Classification file of parameter MISO2_EoLAbsoluteRecycling is not identical to the classification master file used for the current model run.\n",
      "2024-07-03 16:23:30,964 INFO (ODYM_Functions.py <ReadParameterXLSX>): 2 Reading from UNCERTAINTY PAR SHEET: values_uncert which is of type <class 'openpyxl.worksheet.worksheet.Worksheet'>\n",
      "2024-07-03 16:23:31,016 INFO (ODYM_Functions.py <ReadParameterXLSX>): A total of 1379 values was read from file for parameter MISO2_EoLAbsoluteRecycling.\n",
      "2024-07-03 16:23:31,017 INFO (ODYM_Functions.py <ReadParameterXLSX>): 0.0 of 9504 values for parameter MISO2_EoLAbsoluteRecycling were assigned.\n",
      "2024-07-03 16:23:31,017 INFO (MISO2_config.py <_read_parameterdict_from_excel>): Reading parameter MISO2_EndUseShares\n",
      "2024-07-03 16:23:31,018 INFO (MISO2_config.py <_read_parameterdict_from_excel>): Parsing with uncertainty = true\n",
      "2024-07-03 16:23:32,697 CRITICAL (ODYM_Functions.py <ReadParameterXLSX>): CLASSIFICATION FILE FATAL ERROR: Classification file of parameter MISO2_EndUseShares is not identical to the classification master file used for the current model run.\n",
      "2024-07-03 16:23:32,702 INFO (ODYM_Functions.py <ReadParameterXLSX>): 2 Reading from UNCERTAINTY PAR SHEET: values_uncert which is of type <class 'openpyxl.worksheet.worksheet.Worksheet'>\n",
      "2024-07-03 16:23:34,553 INFO (ODYM_Functions.py <ReadParameterXLSX>): A total of 105198 values was read from file for parameter MISO2_EndUseShares.\n",
      "2024-07-03 16:23:34,554 INFO (ODYM_Functions.py <ReadParameterXLSX>): 105198.0 of 133056 values for parameter MISO2_EndUseShares were assigned.\n",
      "2024-07-03 16:23:34,554 INFO (MISO2_config.py <_read_parameterdict_from_excel>): Reading parameter MISO2_EoLAbsoluteDowncycling\n",
      "2024-07-03 16:23:34,554 INFO (MISO2_config.py <_read_parameterdict_from_excel>): Parsing with uncertainty = true\n",
      "2024-07-03 16:23:34,565 CRITICAL (ODYM_Functions.py <ReadParameterXLSX>): CLASSIFICATION FILE FATAL ERROR: Classification file of parameter MISO2_EoLAbsoluteDowncycling is not identical to the classification master file used for the current model run.\n",
      "2024-07-03 16:23:34,568 INFO (ODYM_Functions.py <ReadParameterXLSX>): 2 Reading from UNCERTAINTY PAR SHEET: values_uncert which is of type <class 'openpyxl.worksheet.worksheet.Worksheet'>\n",
      "2024-07-03 16:23:34,617 INFO (ODYM_Functions.py <ReadParameterXLSX>): A total of 0 values was read from file for parameter MISO2_EoLAbsoluteDowncycling.\n",
      "2024-07-03 16:23:34,618 INFO (ODYM_Functions.py <ReadParameterXLSX>): 0.0 of 9504 values for parameter MISO2_EoLAbsoluteDowncycling were assigned.\n",
      "2024-07-03 16:23:34,618 INFO (MISO2_config.py <_read_parameterdict_from_excel>): Reading parameter MISO2_TotalAbsoluteRecycling\n",
      "2024-07-03 16:23:34,619 INFO (MISO2_config.py <_read_parameterdict_from_excel>): Parsing with uncertainty = true\n",
      "2024-07-03 16:23:34,653 CRITICAL (ODYM_Functions.py <ReadParameterXLSX>): CLASSIFICATION FILE FATAL ERROR: Classification file of parameter MISO2_TotalAbsoluteRecycling is not identical to the classification master file used for the current model run.\n",
      "2024-07-03 16:23:34,656 INFO (ODYM_Functions.py <ReadParameterXLSX>): 2 Reading from UNCERTAINTY PAR SHEET: values_uncert which is of type <class 'openpyxl.worksheet.worksheet.Worksheet'>\n",
      "2024-07-03 16:23:34,718 INFO (ODYM_Functions.py <ReadParameterXLSX>): A total of 788 values was read from file for parameter MISO2_TotalAbsoluteRecycling.\n",
      "2024-07-03 16:23:34,719 INFO (ODYM_Functions.py <ReadParameterXLSX>): 788.0 of 9504 values for parameter MISO2_TotalAbsoluteRecycling were assigned.\n",
      "2024-07-03 16:23:34,719 INFO (MISO2_config.py <_read_parameterdict_from_excel>): Reading parameter MISO2_TotalRateRecycling\n",
      "2024-07-03 16:23:34,719 INFO (MISO2_config.py <_read_parameterdict_from_excel>): Parsing with uncertainty = true\n",
      "2024-07-03 16:23:34,732 CRITICAL (ODYM_Functions.py <ReadParameterXLSX>): CLASSIFICATION FILE FATAL ERROR: Classification file of parameter MISO2_TotalRateRecycling is not identical to the classification master file used for the current model run.\n",
      "2024-07-03 16:23:34,735 INFO (ODYM_Functions.py <ReadParameterXLSX>): 2 Reading from UNCERTAINTY PAR SHEET: values_uncert which is of type <class 'openpyxl.worksheet.worksheet.Worksheet'>\n",
      "2024-07-03 16:23:34,785 INFO (ODYM_Functions.py <ReadParameterXLSX>): A total of 0 values was read from file for parameter MISO2_TotalRateRecycling.\n",
      "2024-07-03 16:23:34,786 INFO (ODYM_Functions.py <ReadParameterXLSX>): 0.0 of 9504 values for parameter MISO2_TotalRateRecycling were assigned.\n",
      "2024-07-03 16:23:34,787 INFO (MISO2_config.py <_read_additional_properties>): Parsing additional properties from /Users/benedikt/Documents/GitHub/MISO2/docs/source/notebooks/../../../input/input_usuk/MISO2_classification_properties.xlsx\n",
      "2024-07-03 16:23:34,814 INFO (MISO2_config.py <_set_additional_properties>): Setting additional properties\n",
      "2024-07-03 16:23:34,822 INFO (MISO2_monte_carlo.py <transform_stats_array_to_dicts>): All uncertainties are None for parameter MISO2_Lifetimes, disabling uncertainty\n",
      "2024-07-03 16:23:34,823 INFO (MISO2_monte_carlo.py <transform_stats_array_to_dicts>): Transforming uncertainty stats arrays for: MISO2_EoLRateRecycling\n",
      "2024-07-03 16:23:35,432 INFO (MISO2_monte_carlo.py <transform_stats_array_to_dicts>): Transforming uncertainty stats arrays for: MISO2_EoLRateDowncycling\n",
      "2024-07-03 16:23:35,516 INFO (MISO2_monte_carlo.py <transform_stats_array_to_dicts>): Transforming uncertainty stats arrays for: MISO2_WasteRate_recov_p5\n",
      "2024-07-03 16:23:35,792 INFO (MISO2_monte_carlo.py <transform_stats_array_to_dicts>): Transforming uncertainty stats arrays for: MISO2_WasteRate_unrecov_p5\n",
      "2024-07-03 16:23:36,012 INFO (MISO2_monte_carlo.py <transform_stats_array_to_dicts>): Transforming uncertainty stats arrays for: MISO2_WasteRate_recov_p7\n",
      "2024-07-03 16:23:36,313 INFO (MISO2_monte_carlo.py <transform_stats_array_to_dicts>): Transforming uncertainty stats arrays for: MISO2_WasteRate_unrecov_p7\n",
      "2024-07-03 16:23:36,613 INFO (MISO2_monte_carlo.py <transform_stats_array_to_dicts>): All uncertainties are None for parameter MISO2_WasteRate_recov_p9, disabling uncertainty\n",
      "2024-07-03 16:23:36,614 INFO (MISO2_monte_carlo.py <transform_stats_array_to_dicts>): Transforming uncertainty stats arrays for: MISO2_WasteRate_unrecov_p9\n",
      "2024-07-03 16:23:36,699 INFO (MISO2_monte_carlo.py <transform_stats_array_to_dicts>): Transforming uncertainty stats arrays for: MISO2_Production_p3_total\n",
      "2024-07-03 16:23:36,784 INFO (MISO2_monte_carlo.py <transform_stats_array_to_dicts>): Transforming uncertainty stats arrays for: MISO2_Production_p3_primary\n",
      "2024-07-03 16:23:36,937 INFO (MISO2_monte_carlo.py <transform_stats_array_to_dicts>): Transforming uncertainty stats arrays for: MISO2_Import_p4\n",
      "2024-07-03 16:23:37,125 INFO (MISO2_monte_carlo.py <transform_stats_array_to_dicts>): Transforming uncertainty stats arrays for: MISO2_Export_p4\n",
      "2024-07-03 16:23:37,313 INFO (MISO2_monte_carlo.py <transform_stats_array_to_dicts>): Transforming uncertainty stats arrays for: MISO2_Import_p6\n",
      "2024-07-03 16:23:37,452 INFO (MISO2_monte_carlo.py <transform_stats_array_to_dicts>): Transforming uncertainty stats arrays for: MISO2_Export_p6\n",
      "2024-07-03 16:23:37,717 INFO (MISO2_monte_carlo.py <transform_stats_array_to_dicts>): Transforming uncertainty stats arrays for: MISO2_Import_p8\n",
      "2024-07-03 16:23:37,817 INFO (MISO2_monte_carlo.py <transform_stats_array_to_dicts>): Transforming uncertainty stats arrays for: MISO2_Export_p8\n",
      "2024-07-03 16:23:37,918 INFO (MISO2_monte_carlo.py <transform_stats_array_to_dicts>): Transforming uncertainty stats arrays for: MISO2_Import_p12\n",
      "2024-07-03 16:23:38,032 INFO (MISO2_monte_carlo.py <transform_stats_array_to_dicts>): Transforming uncertainty stats arrays for: MISO2_Export_p12\n",
      "2024-07-03 16:23:38,152 INFO (MISO2_monte_carlo.py <transform_stats_array_to_dicts>): All uncertainties are None for parameter MISO2_Lifetimes_deviation, disabling uncertainty\n",
      "2024-07-03 16:23:38,153 INFO (MISO2_monte_carlo.py <transform_stats_array_to_dicts>): Transforming uncertainty stats arrays for: MISO2_RoadMultiplier\n",
      "2024-07-03 16:23:38,616 INFO (MISO2_monte_carlo.py <transform_stats_array_to_dicts>): Transforming uncertainty stats arrays for: MISO2_BuildingsMultiplier\n",
      "2024-07-03 16:23:39,077 INFO (MISO2_monte_carlo.py <transform_stats_array_to_dicts>): All uncertainties are None for parameter MISO2_EoLAbsoluteRecycling, disabling uncertainty\n",
      "2024-07-03 16:23:39,078 INFO (MISO2_monte_carlo.py <transform_stats_array_to_dicts>): Parameter MISO2_EndUseShares is allocation parameter, no transformation of stats array\n",
      "2024-07-03 16:23:39,094 INFO (MISO2_monte_carlo.py <transform_stats_array_to_dicts>): All uncertainties are None for parameter MISO2_EoLAbsoluteDowncycling, disabling uncertainty\n",
      "2024-07-03 16:23:39,094 INFO (MISO2_monte_carlo.py <transform_stats_array_to_dicts>): Transforming uncertainty stats arrays for: MISO2_TotalAbsoluteRecycling\n",
      "2024-07-03 16:23:39,138 INFO (MISO2_monte_carlo.py <transform_stats_array_to_dicts>): All uncertainties are None for parameter MISO2_TotalRateRecycling, disabling uncertainty\n"
     ]
    }
   ],
   "source": [
    "miso_config = MISO2Config(data_path=input_path,\n",
    "                          config_path=config_path,\n",
    "                          timestamp=timestamp)\n",
    "\n",
    "miso_config.initialise_from_excel(config_filename=config_filename,\n",
    "                                  classification_filename=classification_filename,\n",
    "                                  parse_uncertainty=True)"
   ],
   "metadata": {
    "collapsed": false,
    "ExecuteTime": {
     "end_time": "2024-07-03T14:23:39.141448Z",
     "start_time": "2024-07-03T14:23:23.754310Z"
    }
   },
   "id": "2aaf4a9922ef4eb6",
   "execution_count": 4
  },
  {
   "cell_type": "markdown",
   "source": [
    "Save the config for later use in a binary format"
   ],
   "metadata": {
    "collapsed": false
   },
   "id": "e249e8bec1c02bad"
  },
  {
   "cell_type": "code",
   "outputs": [],
   "source": [
    "miso_config.save_to_pickle(\"selected_countries_config.pickle\")"
   ],
   "metadata": {
    "collapsed": false
   },
   "id": "46f14f5a855284ed",
   "execution_count": null
  }
 ],
 "metadata": {
  "kernelspec": {
   "display_name": "Python 3",
   "language": "python",
   "name": "python3"
  },
  "language_info": {
   "codemirror_mode": {
    "name": "ipython",
    "version": 2
   },
   "file_extension": ".py",
   "mimetype": "text/x-python",
   "name": "python",
   "nbconvert_exporter": "python",
   "pygments_lexer": "ipython2",
   "version": "2.7.6"
  }
 },
 "nbformat": 4,
 "nbformat_minor": 5
}
